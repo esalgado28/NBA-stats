{
 "cells": [
  {
   "cell_type": "code",
<<<<<<< HEAD
   "execution_count": 8,
   "metadata": {},
   "outputs": [
    {
     "ename": "ModuleNotFoundError",
     "evalue": "No module named 'key'",
     "output_type": "error",
     "traceback": [
      "\u001b[0;31m---------------------------------------------------------------------------\u001b[0m",
      "\u001b[0;31mModuleNotFoundError\u001b[0m                       Traceback (most recent call last)",
      "Input \u001b[0;32mIn [8]\u001b[0m, in \u001b[0;36m<cell line: 4>\u001b[0;34m()\u001b[0m\n\u001b[1;32m      2\u001b[0m \u001b[38;5;28;01mimport\u001b[39;00m \u001b[38;5;21;01mjson\u001b[39;00m\n\u001b[1;32m      3\u001b[0m \u001b[38;5;28;01mimport\u001b[39;00m \u001b[38;5;21;01mpymongo\u001b[39;00m\n\u001b[0;32m----> 4\u001b[0m \u001b[38;5;28;01mfrom\u001b[39;00m \u001b[38;5;21;01mkey\u001b[39;00m \u001b[38;5;28;01mimport\u001b[39;00m key\n\u001b[1;32m      5\u001b[0m url \u001b[38;5;241m=\u001b[39m \u001b[38;5;124m\"\u001b[39m\u001b[38;5;124mhttps://api-basketball.p.rapidapi.com/\u001b[39m\u001b[38;5;124m\"\u001b[39m\n\u001b[1;32m      6\u001b[0m headers \u001b[38;5;241m=\u001b[39m {\n\u001b[1;32m      7\u001b[0m     \u001b[38;5;124m\"\u001b[39m\u001b[38;5;124mX-RapidAPI-Host\u001b[39m\u001b[38;5;124m\"\u001b[39m: \u001b[38;5;124m\"\u001b[39m\u001b[38;5;124mapi-basketball.p.rapidapi.com\u001b[39m\u001b[38;5;124m\"\u001b[39m,\n\u001b[1;32m      8\u001b[0m     \u001b[38;5;124m\"\u001b[39m\u001b[38;5;124mX-RapidAPI-Key\u001b[39m\u001b[38;5;124m\"\u001b[39m: key\n\u001b[1;32m      9\u001b[0m }\n",
      "\u001b[0;31mModuleNotFoundError\u001b[0m: No module named 'key'"
     ]
    }
   ],
=======
   "execution_count": 1,
   "metadata": {},
   "outputs": [],
>>>>>>> 72cb44a8951345c40632376cbd1ad83f81e92ec0
   "source": [
    "import requests\n",
    "import json\n",
    "import pymongo\n",
    "from key import key\n",
    "url = \"https://api-basketball.p.rapidapi.com/\"\n",
    "headers = {\n",
    "    \"X-RapidAPI-Host\": \"api-basketball.p.rapidapi.com\",\n",
    "    \"X-RapidAPI-Key\": key\n",
    "}"
   ]
  },
  {
   "cell_type": "code",
<<<<<<< HEAD
   "execution_count": 9,
=======
   "execution_count": 2,
>>>>>>> 72cb44a8951345c40632376cbd1ad83f81e92ec0
   "metadata": {},
   "outputs": [],
   "source": [
    "conn = 'mongodb://localhost:27017'\n",
    "client = pymongo.MongoClient(conn)\n"
   ]
  },
  {
   "cell_type": "code",
<<<<<<< HEAD
   "execution_count": 10,
=======
   "execution_count": 3,
>>>>>>> 72cb44a8951345c40632376cbd1ad83f81e92ec0
   "metadata": {},
   "outputs": [],
   "source": [
    "db = client.nba_db"
   ]
  },
  {
   "cell_type": "code",
<<<<<<< HEAD
   "execution_count": 11,
   "metadata": {
    "scrolled": false
   },
   "outputs": [
    {
     "ename": "ServerSelectionTimeoutError",
     "evalue": "localhost:27017: [Errno 61] Connection refused, Timeout: 30s, Topology Description: <TopologyDescription id: 625195bbde1d470e425abe66, topology_type: Unknown, servers: [<ServerDescription ('localhost', 27017) server_type: Unknown, rtt: None, error=AutoReconnect('localhost:27017: [Errno 61] Connection refused')>]>",
     "output_type": "error",
     "traceback": [
      "\u001b[0;31m---------------------------------------------------------------------------\u001b[0m",
      "\u001b[0;31mServerSelectionTimeoutError\u001b[0m               Traceback (most recent call last)",
      "Input \u001b[0;32mIn [11]\u001b[0m, in \u001b[0;36m<cell line: 3>\u001b[0;34m()\u001b[0m\n\u001b[1;32m      1\u001b[0m seasons \u001b[38;5;241m=\u001b[39m [\u001b[38;5;124m'\u001b[39m\u001b[38;5;124m2019-2020\u001b[39m\u001b[38;5;124m'\u001b[39m, \u001b[38;5;124m'\u001b[39m\u001b[38;5;124m2020-2021\u001b[39m\u001b[38;5;124m'\u001b[39m, \u001b[38;5;124m'\u001b[39m\u001b[38;5;124m2021-2022\u001b[39m\u001b[38;5;124m'\u001b[39m]\n\u001b[1;32m      2\u001b[0m collection \u001b[38;5;241m=\u001b[39m db\u001b[38;5;241m.\u001b[39mstandings\n\u001b[0;32m----> 3\u001b[0m \u001b[43mcollection\u001b[49m\u001b[38;5;241;43m.\u001b[39;49m\u001b[43mdelete_many\u001b[49m\u001b[43m(\u001b[49m\u001b[43m{\u001b[49m\u001b[43m}\u001b[49m\u001b[43m)\u001b[49m\n\u001b[1;32m      4\u001b[0m \u001b[38;5;28;01mfor\u001b[39;00m season \u001b[38;5;129;01min\u001b[39;00m seasons:\n\u001b[1;32m      5\u001b[0m     params \u001b[38;5;241m=\u001b[39m \u001b[38;5;124mf\u001b[39m\u001b[38;5;124m'\u001b[39m\u001b[38;5;124mstandings?league=12&season=\u001b[39m\u001b[38;5;132;01m{\u001b[39;00mseason\u001b[38;5;132;01m}\u001b[39;00m\u001b[38;5;124m'\u001b[39m\n",
      "File \u001b[0;32m~/opt/anaconda3/envs/pythondata/lib/python3.9/site-packages/pymongo/collection.py:1375\u001b[0m, in \u001b[0;36mCollection.delete_many\u001b[0;34m(self, filter, collation, hint, session, let, comment)\u001b[0m\n\u001b[1;32m   1330\u001b[0m \u001b[38;5;124;03m\"\"\"Delete one or more documents matching the filter.\u001b[39;00m\n\u001b[1;32m   1331\u001b[0m \n\u001b[1;32m   1332\u001b[0m \u001b[38;5;124;03m  >>> db.test.count_documents({'x': 1})\u001b[39;00m\n\u001b[0;32m   (...)\u001b[0m\n\u001b[1;32m   1371\u001b[0m \u001b[38;5;124;03m.. versionadded:: 3.0\u001b[39;00m\n\u001b[1;32m   1372\u001b[0m \u001b[38;5;124;03m\"\"\"\u001b[39;00m\n\u001b[1;32m   1373\u001b[0m write_concern \u001b[38;5;241m=\u001b[39m \u001b[38;5;28mself\u001b[39m\u001b[38;5;241m.\u001b[39m_write_concern_for(session)\n\u001b[1;32m   1374\u001b[0m \u001b[38;5;28;01mreturn\u001b[39;00m DeleteResult(\n\u001b[0;32m-> 1375\u001b[0m     \u001b[38;5;28;43mself\u001b[39;49m\u001b[38;5;241;43m.\u001b[39;49m\u001b[43m_delete_retryable\u001b[49m\u001b[43m(\u001b[49m\n\u001b[1;32m   1376\u001b[0m \u001b[43m        \u001b[49m\u001b[38;5;28;43mfilter\u001b[39;49m\u001b[43m,\u001b[49m\n\u001b[1;32m   1377\u001b[0m \u001b[43m        \u001b[49m\u001b[38;5;28;43;01mTrue\u001b[39;49;00m\u001b[43m,\u001b[49m\n\u001b[1;32m   1378\u001b[0m \u001b[43m        \u001b[49m\u001b[43mwrite_concern\u001b[49m\u001b[38;5;241;43m=\u001b[39;49m\u001b[43mwrite_concern\u001b[49m\u001b[43m,\u001b[49m\n\u001b[1;32m   1379\u001b[0m \u001b[43m        \u001b[49m\u001b[43mcollation\u001b[49m\u001b[38;5;241;43m=\u001b[39;49m\u001b[43mcollation\u001b[49m\u001b[43m,\u001b[49m\n\u001b[1;32m   1380\u001b[0m \u001b[43m        \u001b[49m\u001b[43mhint\u001b[49m\u001b[38;5;241;43m=\u001b[39;49m\u001b[43mhint\u001b[49m\u001b[43m,\u001b[49m\n\u001b[1;32m   1381\u001b[0m \u001b[43m        \u001b[49m\u001b[43msession\u001b[49m\u001b[38;5;241;43m=\u001b[39;49m\u001b[43msession\u001b[49m\u001b[43m,\u001b[49m\n\u001b[1;32m   1382\u001b[0m \u001b[43m        \u001b[49m\u001b[43mlet\u001b[49m\u001b[38;5;241;43m=\u001b[39;49m\u001b[43mlet\u001b[49m\u001b[43m,\u001b[49m\n\u001b[1;32m   1383\u001b[0m \u001b[43m        \u001b[49m\u001b[43mcomment\u001b[49m\u001b[38;5;241;43m=\u001b[39;49m\u001b[43mcomment\u001b[49m\u001b[43m,\u001b[49m\n\u001b[1;32m   1384\u001b[0m \u001b[43m    \u001b[49m\u001b[43m)\u001b[49m,\n\u001b[1;32m   1385\u001b[0m     write_concern\u001b[38;5;241m.\u001b[39macknowledged,\n\u001b[1;32m   1386\u001b[0m )\n",
      "File \u001b[0;32m~/opt/anaconda3/envs/pythondata/lib/python3.9/site-packages/pymongo/collection.py:1250\u001b[0m, in \u001b[0;36mCollection._delete_retryable\u001b[0;34m(self, criteria, multi, write_concern, op_id, ordered, collation, hint, session, let, comment)\u001b[0m\n\u001b[1;32m   1234\u001b[0m \u001b[38;5;28;01mdef\u001b[39;00m \u001b[38;5;21m_delete\u001b[39m(session, sock_info, retryable_write):\n\u001b[1;32m   1235\u001b[0m     \u001b[38;5;28;01mreturn\u001b[39;00m \u001b[38;5;28mself\u001b[39m\u001b[38;5;241m.\u001b[39m_delete(\n\u001b[1;32m   1236\u001b[0m         sock_info,\n\u001b[1;32m   1237\u001b[0m         criteria,\n\u001b[0;32m   (...)\u001b[0m\n\u001b[1;32m   1247\u001b[0m         comment\u001b[38;5;241m=\u001b[39mcomment,\n\u001b[1;32m   1248\u001b[0m     )\n\u001b[0;32m-> 1250\u001b[0m \u001b[38;5;28;01mreturn\u001b[39;00m \u001b[38;5;28;43mself\u001b[39;49m\u001b[38;5;241;43m.\u001b[39;49m\u001b[43m__database\u001b[49m\u001b[38;5;241;43m.\u001b[39;49m\u001b[43mclient\u001b[49m\u001b[38;5;241;43m.\u001b[39;49m\u001b[43m_retryable_write\u001b[49m\u001b[43m(\u001b[49m\n\u001b[1;32m   1251\u001b[0m \u001b[43m    \u001b[49m\u001b[43m(\u001b[49m\u001b[43mwrite_concern\u001b[49m\u001b[43m \u001b[49m\u001b[38;5;129;43;01mor\u001b[39;49;00m\u001b[43m \u001b[49m\u001b[38;5;28;43mself\u001b[39;49m\u001b[38;5;241;43m.\u001b[39;49m\u001b[43mwrite_concern\u001b[49m\u001b[43m)\u001b[49m\u001b[38;5;241;43m.\u001b[39;49m\u001b[43macknowledged\u001b[49m\u001b[43m \u001b[49m\u001b[38;5;129;43;01mand\u001b[39;49;00m\u001b[43m \u001b[49m\u001b[38;5;129;43;01mnot\u001b[39;49;00m\u001b[43m \u001b[49m\u001b[43mmulti\u001b[49m\u001b[43m,\u001b[49m\u001b[43m \u001b[49m\u001b[43m_delete\u001b[49m\u001b[43m,\u001b[49m\u001b[43m \u001b[49m\u001b[43msession\u001b[49m\n\u001b[1;32m   1252\u001b[0m \u001b[43m\u001b[49m\u001b[43m)\u001b[49m\n",
      "File \u001b[0;32m~/opt/anaconda3/envs/pythondata/lib/python3.9/site-packages/pymongo/mongo_client.py:1398\u001b[0m, in \u001b[0;36mMongoClient._retryable_write\u001b[0;34m(self, retryable, func, session)\u001b[0m\n\u001b[1;32m   1396\u001b[0m \u001b[38;5;28;01mdef\u001b[39;00m \u001b[38;5;21m_retryable_write\u001b[39m(\u001b[38;5;28mself\u001b[39m, retryable, func, session):\n\u001b[1;32m   1397\u001b[0m     \u001b[38;5;124;03m\"\"\"Internal retryable write helper.\"\"\"\u001b[39;00m\n\u001b[0;32m-> 1398\u001b[0m     \u001b[38;5;28;01mwith\u001b[39;00m \u001b[38;5;28mself\u001b[39m\u001b[38;5;241m.\u001b[39m_tmp_session(session) \u001b[38;5;28;01mas\u001b[39;00m s:\n\u001b[1;32m   1399\u001b[0m         \u001b[38;5;28;01mreturn\u001b[39;00m \u001b[38;5;28mself\u001b[39m\u001b[38;5;241m.\u001b[39m_retry_with_session(retryable, func, s, \u001b[38;5;28;01mNone\u001b[39;00m)\n",
      "File \u001b[0;32m~/opt/anaconda3/envs/pythondata/lib/python3.9/contextlib.py:119\u001b[0m, in \u001b[0;36m_GeneratorContextManager.__enter__\u001b[0;34m(self)\u001b[0m\n\u001b[1;32m    117\u001b[0m \u001b[38;5;28;01mdel\u001b[39;00m \u001b[38;5;28mself\u001b[39m\u001b[38;5;241m.\u001b[39margs, \u001b[38;5;28mself\u001b[39m\u001b[38;5;241m.\u001b[39mkwds, \u001b[38;5;28mself\u001b[39m\u001b[38;5;241m.\u001b[39mfunc\n\u001b[1;32m    118\u001b[0m \u001b[38;5;28;01mtry\u001b[39;00m:\n\u001b[0;32m--> 119\u001b[0m     \u001b[38;5;28;01mreturn\u001b[39;00m \u001b[38;5;28;43mnext\u001b[39;49m\u001b[43m(\u001b[49m\u001b[38;5;28;43mself\u001b[39;49m\u001b[38;5;241;43m.\u001b[39;49m\u001b[43mgen\u001b[49m\u001b[43m)\u001b[49m\n\u001b[1;32m    120\u001b[0m \u001b[38;5;28;01mexcept\u001b[39;00m \u001b[38;5;167;01mStopIteration\u001b[39;00m:\n\u001b[1;32m    121\u001b[0m     \u001b[38;5;28;01mraise\u001b[39;00m \u001b[38;5;167;01mRuntimeError\u001b[39;00m(\u001b[38;5;124m\"\u001b[39m\u001b[38;5;124mgenerator didn\u001b[39m\u001b[38;5;124m'\u001b[39m\u001b[38;5;124mt yield\u001b[39m\u001b[38;5;124m\"\u001b[39m) \u001b[38;5;28;01mfrom\u001b[39;00m \u001b[38;5;28mNone\u001b[39m\n",
      "File \u001b[0;32m~/opt/anaconda3/envs/pythondata/lib/python3.9/site-packages/pymongo/mongo_client.py:1676\u001b[0m, in \u001b[0;36mMongoClient._tmp_session\u001b[0;34m(self, session, close)\u001b[0m\n\u001b[1;32m   1673\u001b[0m     \u001b[38;5;28;01myield\u001b[39;00m session\n\u001b[1;32m   1674\u001b[0m     \u001b[38;5;28;01mreturn\u001b[39;00m\n\u001b[0;32m-> 1676\u001b[0m s \u001b[38;5;241m=\u001b[39m \u001b[38;5;28;43mself\u001b[39;49m\u001b[38;5;241;43m.\u001b[39;49m\u001b[43m_ensure_session\u001b[49m\u001b[43m(\u001b[49m\u001b[43msession\u001b[49m\u001b[43m)\u001b[49m\n\u001b[1;32m   1677\u001b[0m \u001b[38;5;28;01mif\u001b[39;00m s:\n\u001b[1;32m   1678\u001b[0m     \u001b[38;5;28;01mtry\u001b[39;00m:\n",
      "File \u001b[0;32m~/opt/anaconda3/envs/pythondata/lib/python3.9/site-packages/pymongo/mongo_client.py:1663\u001b[0m, in \u001b[0;36mMongoClient._ensure_session\u001b[0;34m(self, session)\u001b[0m\n\u001b[1;32m   1658\u001b[0m     \u001b[38;5;28;01mreturn\u001b[39;00m session\n\u001b[1;32m   1660\u001b[0m \u001b[38;5;28;01mtry\u001b[39;00m:\n\u001b[1;32m   1661\u001b[0m     \u001b[38;5;66;03m# Don't make implicit sessions causally consistent. Applications\u001b[39;00m\n\u001b[1;32m   1662\u001b[0m     \u001b[38;5;66;03m# should always opt-in.\u001b[39;00m\n\u001b[0;32m-> 1663\u001b[0m     \u001b[38;5;28;01mreturn\u001b[39;00m \u001b[38;5;28;43mself\u001b[39;49m\u001b[38;5;241;43m.\u001b[39;49m\u001b[43m__start_session\u001b[49m\u001b[43m(\u001b[49m\u001b[38;5;28;43;01mTrue\u001b[39;49;00m\u001b[43m,\u001b[49m\u001b[43m \u001b[49m\u001b[43mcausal_consistency\u001b[49m\u001b[38;5;241;43m=\u001b[39;49m\u001b[38;5;28;43;01mFalse\u001b[39;49;00m\u001b[43m)\u001b[49m\n\u001b[1;32m   1664\u001b[0m \u001b[38;5;28;01mexcept\u001b[39;00m (ConfigurationError, InvalidOperation):\n\u001b[1;32m   1665\u001b[0m     \u001b[38;5;66;03m# Sessions not supported.\u001b[39;00m\n\u001b[1;32m   1666\u001b[0m     \u001b[38;5;28;01mreturn\u001b[39;00m \u001b[38;5;28;01mNone\u001b[39;00m\n",
      "File \u001b[0;32m~/opt/anaconda3/envs/pythondata/lib/python3.9/site-packages/pymongo/mongo_client.py:1608\u001b[0m, in \u001b[0;36mMongoClient.__start_session\u001b[0;34m(self, implicit, **kwargs)\u001b[0m\n\u001b[1;32m   1605\u001b[0m \u001b[38;5;28;01mdef\u001b[39;00m \u001b[38;5;21m__start_session\u001b[39m(\u001b[38;5;28mself\u001b[39m, implicit, \u001b[38;5;241m*\u001b[39m\u001b[38;5;241m*\u001b[39mkwargs):\n\u001b[1;32m   1606\u001b[0m     \u001b[38;5;66;03m# Raises ConfigurationError if sessions are not supported.\u001b[39;00m\n\u001b[1;32m   1607\u001b[0m     \u001b[38;5;28;01mif\u001b[39;00m implicit:\n\u001b[0;32m-> 1608\u001b[0m         \u001b[38;5;28;43mself\u001b[39;49m\u001b[38;5;241;43m.\u001b[39;49m\u001b[43m_topology\u001b[49m\u001b[38;5;241;43m.\u001b[39;49m\u001b[43m_check_implicit_session_support\u001b[49m\u001b[43m(\u001b[49m\u001b[43m)\u001b[49m\n\u001b[1;32m   1609\u001b[0m         server_session \u001b[38;5;241m=\u001b[39m _EmptyServerSession()\n\u001b[1;32m   1610\u001b[0m     \u001b[38;5;28;01melse\u001b[39;00m:\n",
      "File \u001b[0;32m~/opt/anaconda3/envs/pythondata/lib/python3.9/site-packages/pymongo/topology.py:519\u001b[0m, in \u001b[0;36mTopology._check_implicit_session_support\u001b[0;34m(self)\u001b[0m\n\u001b[1;32m    517\u001b[0m \u001b[38;5;28;01mdef\u001b[39;00m \u001b[38;5;21m_check_implicit_session_support\u001b[39m(\u001b[38;5;28mself\u001b[39m):\n\u001b[1;32m    518\u001b[0m     \u001b[38;5;28;01mwith\u001b[39;00m \u001b[38;5;28mself\u001b[39m\u001b[38;5;241m.\u001b[39m_lock:\n\u001b[0;32m--> 519\u001b[0m         \u001b[38;5;28;43mself\u001b[39;49m\u001b[38;5;241;43m.\u001b[39;49m\u001b[43m_check_session_support\u001b[49m\u001b[43m(\u001b[49m\u001b[43m)\u001b[49m\n",
      "File \u001b[0;32m~/opt/anaconda3/envs/pythondata/lib/python3.9/site-packages/pymongo/topology.py:535\u001b[0m, in \u001b[0;36mTopology._check_session_support\u001b[0;34m(self)\u001b[0m\n\u001b[1;32m    531\u001b[0m         \u001b[38;5;28mself\u001b[39m\u001b[38;5;241m.\u001b[39m_select_servers_loop(\n\u001b[1;32m    532\u001b[0m             any_server_selector, \u001b[38;5;28mself\u001b[39m\u001b[38;5;241m.\u001b[39m_settings\u001b[38;5;241m.\u001b[39mserver_selection_timeout, \u001b[38;5;28;01mNone\u001b[39;00m\n\u001b[1;32m    533\u001b[0m         )\n\u001b[1;32m    534\u001b[0m \u001b[38;5;28;01melif\u001b[39;00m \u001b[38;5;129;01mnot\u001b[39;00m \u001b[38;5;28mself\u001b[39m\u001b[38;5;241m.\u001b[39m_description\u001b[38;5;241m.\u001b[39mreadable_servers:\n\u001b[0;32m--> 535\u001b[0m     \u001b[38;5;28;43mself\u001b[39;49m\u001b[38;5;241;43m.\u001b[39;49m\u001b[43m_select_servers_loop\u001b[49m\u001b[43m(\u001b[49m\n\u001b[1;32m    536\u001b[0m \u001b[43m        \u001b[49m\u001b[43mreadable_server_selector\u001b[49m\u001b[43m,\u001b[49m\u001b[43m \u001b[49m\u001b[38;5;28;43mself\u001b[39;49m\u001b[38;5;241;43m.\u001b[39;49m\u001b[43m_settings\u001b[49m\u001b[38;5;241;43m.\u001b[39;49m\u001b[43mserver_selection_timeout\u001b[49m\u001b[43m,\u001b[49m\u001b[43m \u001b[49m\u001b[38;5;28;43;01mNone\u001b[39;49;00m\n\u001b[1;32m    537\u001b[0m \u001b[43m    \u001b[49m\u001b[43m)\u001b[49m\n\u001b[1;32m    539\u001b[0m session_timeout \u001b[38;5;241m=\u001b[39m \u001b[38;5;28mself\u001b[39m\u001b[38;5;241m.\u001b[39m_description\u001b[38;5;241m.\u001b[39mlogical_session_timeout_minutes\n\u001b[1;32m    540\u001b[0m \u001b[38;5;28;01mif\u001b[39;00m session_timeout \u001b[38;5;129;01mis\u001b[39;00m \u001b[38;5;28;01mNone\u001b[39;00m:\n",
      "File \u001b[0;32m~/opt/anaconda3/envs/pythondata/lib/python3.9/site-packages/pymongo/topology.py:227\u001b[0m, in \u001b[0;36mTopology._select_servers_loop\u001b[0;34m(self, selector, timeout, address)\u001b[0m\n\u001b[1;32m    224\u001b[0m \u001b[38;5;28;01mwhile\u001b[39;00m \u001b[38;5;129;01mnot\u001b[39;00m server_descriptions:\n\u001b[1;32m    225\u001b[0m     \u001b[38;5;66;03m# No suitable servers.\u001b[39;00m\n\u001b[1;32m    226\u001b[0m     \u001b[38;5;28;01mif\u001b[39;00m timeout \u001b[38;5;241m==\u001b[39m \u001b[38;5;241m0\u001b[39m \u001b[38;5;129;01mor\u001b[39;00m now \u001b[38;5;241m>\u001b[39m end_time:\n\u001b[0;32m--> 227\u001b[0m         \u001b[38;5;28;01mraise\u001b[39;00m ServerSelectionTimeoutError(\n\u001b[1;32m    228\u001b[0m             \u001b[38;5;124m\"\u001b[39m\u001b[38;5;132;01m%s\u001b[39;00m\u001b[38;5;124m, Timeout: \u001b[39m\u001b[38;5;132;01m%s\u001b[39;00m\u001b[38;5;124ms, Topology Description: \u001b[39m\u001b[38;5;132;01m%r\u001b[39;00m\u001b[38;5;124m\"\u001b[39m\n\u001b[1;32m    229\u001b[0m             \u001b[38;5;241m%\u001b[39m (\u001b[38;5;28mself\u001b[39m\u001b[38;5;241m.\u001b[39m_error_message(selector), timeout, \u001b[38;5;28mself\u001b[39m\u001b[38;5;241m.\u001b[39mdescription)\n\u001b[1;32m    230\u001b[0m         )\n\u001b[1;32m    232\u001b[0m     \u001b[38;5;28mself\u001b[39m\u001b[38;5;241m.\u001b[39m_ensure_opened()\n\u001b[1;32m    233\u001b[0m     \u001b[38;5;28mself\u001b[39m\u001b[38;5;241m.\u001b[39m_request_check_all()\n",
      "\u001b[0;31mServerSelectionTimeoutError\u001b[0m: localhost:27017: [Errno 61] Connection refused, Timeout: 30s, Topology Description: <TopologyDescription id: 625195bbde1d470e425abe66, topology_type: Unknown, servers: [<ServerDescription ('localhost', 27017) server_type: Unknown, rtt: None, error=AutoReconnect('localhost:27017: [Errno 61] Connection refused')>]>"
     ]
    }
   ],
=======
   "execution_count": 4,
   "metadata": {
    "scrolled": false
   },
   "outputs": [],
>>>>>>> 72cb44a8951345c40632376cbd1ad83f81e92ec0
   "source": [
    "seasons = ['2019-2020', '2020-2021', '2021-2022']\n",
    "collection = db.standings\n",
    "collection.delete_many({})\n",
    "for season in seasons:\n",
    "    params = f'standings?league=12&season={season}'\n",
    "    response = requests.get(url + params, headers=headers).json()\n",
    "\n",
    "    weststandings = {}\n",
    "    eaststandings = {}\n",
    "\n",
    "    for team in response[\"response\"][0]:\n",
    "\n",
    "        if team[\"group\"][\"name\"] == \"Western Conference\":\n",
    "            weststandings[team[\"team\"][\"name\"]] = {\"wins\": team[\"games\"][\"win\"][\"total\"],\n",
    "                                  \"losses\": team[\"games\"][\"lose\"][\"total\"], \"logo\": team[\"team\"][\"logo\"]}\n",
    "        if team[\"group\"][\"name\"] == \"Eastern Conference\":\n",
    "            eaststandings[team[\"team\"][\"name\"]] = {\"wins\": team[\"games\"][\"win\"][\"total\"],\n",
    "                                  \"losses\": team[\"games\"][\"lose\"][\"total\"], \"logo\" : team[\"team\"][\"logo\"]}\n",
    "    collection.insert_one({\"season\" : season, \"data\" : {\"weststandings\" : weststandings, \"eaststandings\": eaststandings}})\n",
    "\n"
   ]
  },
  {
   "cell_type": "code",
<<<<<<< HEAD
   "execution_count": null,
=======
   "execution_count": 5,
>>>>>>> 72cb44a8951345c40632376cbd1ad83f81e92ec0
   "metadata": {},
   "outputs": [],
   "source": [
    "idmap = {}\n",
    "for team in response[\"response\"][0]:\n",
    "    idmap[team[\"team\"][\"id\"]] = team[\"team\"][\"name\"]"
   ]
  },
  {
   "cell_type": "code",
<<<<<<< HEAD
   "execution_count": null,
   "metadata": {},
   "outputs": [],
=======
   "execution_count": 6,
   "metadata": {},
   "outputs": [
    {
     "data": {
      "text/plain": [
       "{155: 'Phoenix Suns',\n",
       " 146: 'Memphis Grizzlies',\n",
       " 141: 'Golden State Warriors',\n",
       " 138: 'Dallas Mavericks',\n",
       " 160: 'Utah Jazz',\n",
       " 139: 'Denver Nuggets',\n",
       " 149: 'Minnesota Timberwolves',\n",
       " 144: 'Los Angeles Clippers',\n",
       " 150: 'New Orleans Pelicans',\n",
       " 158: 'San Antonio Spurs',\n",
       " 145: 'Los Angeles Lakers',\n",
       " 157: 'Sacramento Kings',\n",
       " 156: 'Portland Trail Blazers',\n",
       " 152: 'Oklahoma City Thunder',\n",
       " 142: 'Houston Rockets',\n",
       " 147: 'Miami Heat',\n",
       " 148: 'Milwaukee Bucks',\n",
       " 133: 'Boston Celtics',\n",
       " 154: 'Philadelphia 76ers',\n",
       " 159: 'Toronto Raptors',\n",
       " 136: 'Chicago Bulls',\n",
       " 137: 'Cleveland Cavaliers',\n",
       " 134: 'Brooklyn Nets',\n",
       " 132: 'Atlanta Hawks',\n",
       " 135: 'Charlotte Hornets',\n",
       " 151: 'New York Knicks',\n",
       " 161: 'Washington Wizards',\n",
       " 143: 'Indiana Pacers',\n",
       " 140: 'Detroit Pistons',\n",
       " 153: 'Orlando Magic'}"
      ]
     },
     "execution_count": 6,
     "metadata": {},
     "output_type": "execute_result"
    }
   ],
>>>>>>> 72cb44a8951345c40632376cbd1ad83f81e92ec0
   "source": [
    "idmap"
   ]
  },
  {
   "cell_type": "code",
<<<<<<< HEAD
   "execution_count": null,
=======
   "execution_count": 22,
>>>>>>> 72cb44a8951345c40632376cbd1ad83f81e92ec0
   "metadata": {},
   "outputs": [],
   "source": [
    "collection = db.h2h\n",
<<<<<<< HEAD
    "for team1 in range(132, 162):\n",
    "    for team2 in range(team1 + 1, 162):\n",
    "        params = f\"/games?{team1}-{team2}\"\n",
    "        response = requests.get(url + params, headers=headers).json()[\"response\"]\n",
    "        collection.insert_one({f'{idmap[team1]}-{idmap[team2]}' : response})\n",
    "        "
=======
    "collection.delete_many({})\n",
    "for team1 in range(132, 162):\n",
    "    for team2 in range(team1 + 1, 162):\n",
    "        games = []\n",
    "        params = f\"/games?season=2020-2021&h2h={team1}-{team2}\"\n",
    "        response = requests.get(url + params, headers=headers).json()[\"response\"]\n",
    "        for game in response:\n",
    "            simplegame = {\"date\" : game[\"date\"][:game[\"date\"].index('T')], \n",
    "                          \"home\" : {\"team\": game[\"teams\"][\"home\"][\"name\"], \"score\": game[\"scores\"][\"home\"][\"total\"]},\n",
    "                          \"away\" : {\"team\": game[\"teams\"][\"away\"][\"name\"], \"score\": game[\"scores\"][\"away\"][\"total\"]}}\n",
    "            games.append(simplegame)\n",
    "        collection.insert_one({'teams': [idmap[team1], idmap[team2]], \"data\": games})"
>>>>>>> 72cb44a8951345c40632376cbd1ad83f81e92ec0
   ]
  },
  {
   "cell_type": "code",
<<<<<<< HEAD
   "execution_count": null,
=======
   "execution_count": 7,
   "metadata": {},
   "outputs": [
    {
     "data": {
      "text/plain": [
       "<pymongo.results.InsertOneResult at 0x27c0f6af548>"
      ]
     },
     "execution_count": 7,
     "metadata": {},
     "output_type": "execute_result"
    }
   ],
   "source": [
    "collection = db.teamlist\n",
    "collection.delete_many({})\n",
    "teams = []\n",
    "for team in range(132,162):\n",
    "    teams.append(idmap[team])\n",
    "    \n",
    "collection.insert_one({'teamlist' : teams})"
   ]
  },
  {
   "cell_type": "code",
   "execution_count": 4,
>>>>>>> 72cb44a8951345c40632376cbd1ad83f81e92ec0
   "metadata": {},
   "outputs": [],
   "source": [
    "with open('player_stats.json') as file:\n",
    "    file_data = json.load(file)"
   ]
  },
  {
   "cell_type": "code",
<<<<<<< HEAD
   "execution_count": null,
   "metadata": {},
   "outputs": [],
=======
   "execution_count": 7,
   "metadata": {},
   "outputs": [
    {
     "data": {
      "text/plain": [
       "<pymongo.results.InsertManyResult at 0x1ae72db5248>"
      ]
     },
     "execution_count": 7,
     "metadata": {},
     "output_type": "execute_result"
    }
   ],
>>>>>>> 72cb44a8951345c40632376cbd1ad83f81e92ec0
   "source": [
    "collection = db.player_data\n",
    "collection.insert_many(file_data)"
   ]
  },
  {
   "cell_type": "code",
   "execution_count": null,
   "metadata": {},
   "outputs": [],
   "source": []
  }
 ],
 "metadata": {
  "kernelspec": {
<<<<<<< HEAD
   "display_name": "Python 3 (ipykernel)",
   "language": "python",
   "name": "python3"
=======
   "display_name": "Python [conda env:pythondata] *",
   "language": "python",
   "name": "conda-env-pythondata-py"
>>>>>>> 72cb44a8951345c40632376cbd1ad83f81e92ec0
  },
  "language_info": {
   "codemirror_mode": {
    "name": "ipython",
    "version": 3
   },
   "file_extension": ".py",
   "mimetype": "text/x-python",
   "name": "python",
   "nbconvert_exporter": "python",
   "pygments_lexer": "ipython3",
<<<<<<< HEAD
   "version": "3.9.11"
=======
   "version": "3.6.10"
>>>>>>> 72cb44a8951345c40632376cbd1ad83f81e92ec0
  }
 },
 "nbformat": 4,
 "nbformat_minor": 4
}
