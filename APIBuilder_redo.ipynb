{
 "cells": [
  {
   "cell_type": "code",
   "execution_count": 1,
   "id": "268cb9de",
   "metadata": {},
   "outputs": [],
   "source": [
    "import requests\n",
    "import json\n",
    "import pymongo\n",
    "from key import key\n",
    "url = \"https://api-basketball.p.rapidapi.com/\"\n",
    "headers = {\n",
    "    \"X-RapidAPI-Host\": \"api-basketball.p.rapidapi.com\",\n",
    "    \"X-RapidAPI-Key\": key\n",
    "}"
   ]
  },
  {
   "cell_type": "code",
   "execution_count": 2,
   "id": "0c426376",
   "metadata": {},
   "outputs": [],
   "source": [
    "conn = 'mongodb://localhost:27017'\n",
    "client = pymongo.MongoClient(conn)"
   ]
  },
  {
   "cell_type": "code",
   "execution_count": 3,
   "id": "a935c5f5",
   "metadata": {},
   "outputs": [],
   "source": [
    "db = client.nba_db"
   ]
  },
  {
   "cell_type": "code",
   "execution_count": 4,
   "id": "b018e126",
   "metadata": {},
   "outputs": [],
   "source": [
    "seasons = ['2019-2020', '2020-2021', '2021-2022']\n",
    "collection = db.standings\n",
    "collection.delete_many({})\n",
    "for season in seasons:\n",
    "    params = f'standings?league=12&season={season}'\n",
    "    response = requests.get(url + params, headers=headers).json()\n",
    "\n",
    "    weststandings = {}\n",
    "    eaststandings = {}\n",
    "\n",
    "    for team in response[\"response\"][0]:\n",
    "\n",
    "        if team[\"group\"][\"name\"] == \"Western Conference\":\n",
    "            weststandings[team[\"team\"][\"name\"]] = {\"wins\": team[\"games\"][\"win\"][\"total\"],\n",
    "                                  \"losses\": team[\"games\"][\"lose\"][\"total\"], \"logo\": team[\"team\"][\"logo\"]}\n",
    "        if team[\"group\"][\"name\"] == \"Eastern Conference\":\n",
    "            eaststandings[team[\"team\"][\"name\"]] = {\"wins\": team[\"games\"][\"win\"][\"total\"],\n",
    "                                  \"losses\": team[\"games\"][\"lose\"][\"total\"], \"logo\" : team[\"team\"][\"logo\"]}\n",
    "    collection.insert_one({\"season\" : season, \"data\" : {\"weststandings\" : weststandings, \"eaststandings\": eaststandings}})"
   ]
  },
  {
   "cell_type": "code",
   "execution_count": 5,
   "id": "350c7563",
   "metadata": {},
   "outputs": [],
   "source": [
    "idmap = {}\n",
    "for team in response[\"response\"][0]:\n",
    "    idmap[team[\"team\"][\"id\"]] = team[\"team\"][\"name\"]"
   ]
  },
  {
   "cell_type": "code",
   "execution_count": 6,
   "id": "83253abd",
   "metadata": {},
   "outputs": [
    {
     "data": {
      "text/plain": [
       "{155: 'Phoenix Suns',\n",
       " 146: 'Memphis Grizzlies',\n",
       " 141: 'Golden State Warriors',\n",
       " 138: 'Dallas Mavericks',\n",
       " 160: 'Utah Jazz',\n",
       " 139: 'Denver Nuggets',\n",
       " 149: 'Minnesota Timberwolves',\n",
       " 144: 'Los Angeles Clippers',\n",
       " 150: 'New Orleans Pelicans',\n",
       " 158: 'San Antonio Spurs',\n",
       " 145: 'Los Angeles Lakers',\n",
       " 157: 'Sacramento Kings',\n",
       " 156: 'Portland Trail Blazers',\n",
       " 152: 'Oklahoma City Thunder',\n",
       " 142: 'Houston Rockets',\n",
       " 147: 'Miami Heat',\n",
       " 148: 'Milwaukee Bucks',\n",
       " 133: 'Boston Celtics',\n",
       " 154: 'Philadelphia 76ers',\n",
       " 159: 'Toronto Raptors',\n",
       " 136: 'Chicago Bulls',\n",
       " 137: 'Cleveland Cavaliers',\n",
       " 134: 'Brooklyn Nets',\n",
       " 132: 'Atlanta Hawks',\n",
       " 135: 'Charlotte Hornets',\n",
       " 151: 'New York Knicks',\n",
       " 161: 'Washington Wizards',\n",
       " 143: 'Indiana Pacers',\n",
       " 140: 'Detroit Pistons',\n",
       " 153: 'Orlando Magic'}"
      ]
     },
     "execution_count": 6,
     "metadata": {},
     "output_type": "execute_result"
    }
   ],
   "source": [
    "idmap"
   ]
  },
  {
   "cell_type": "code",
   "execution_count": 7,
   "id": "62867e7f",
   "metadata": {},
   "outputs": [],
   "source": [
    "collection = db.h2h\n",
    "collection.delete_many({})\n",
    "for team1 in range(132, 162):\n",
    "    for team2 in range(team1 + 1, 162):\n",
    "        games = []\n",
    "        params = f\"/games?season=2020-2021&h2h={team1}-{team2}\"\n",
    "        response = requests.get(url + params, headers=headers).json()[\"response\"]\n",
    "        for game in response:\n",
    "            simplegame = {\"date\" : game[\"date\"][:game[\"date\"].index('T')], \n",
    "                          \"home\" : {\"team\": game[\"teams\"][\"home\"][\"name\"], \"score\": game[\"scores\"][\"home\"][\"total\"]},\n",
    "                          \"away\" : {\"team\": game[\"teams\"][\"away\"][\"name\"], \"score\": game[\"scores\"][\"away\"][\"total\"]}}\n",
    "            games.append(simplegame)\n",
    "        collection.insert_one({'teams': [idmap[team1], idmap[team2]], \"data\": games})"
   ]
  },
  {
   "cell_type": "code",
   "execution_count": 11,
   "id": "2c63b403",
   "metadata": {},
   "outputs": [
    {
     "data": {
      "text/plain": [
       "<pymongo.results.InsertOneResult at 0x7f8f900d85e0>"
      ]
     },
     "execution_count": 11,
     "metadata": {},
     "output_type": "execute_result"
    }
   ],
   "source": [
    "collection = db.teamlist\n",
    "collection.delete_many({})\n",
    "teams = []\n",
    "for team in range(132,162):\n",
    "    teams.append(idmap[team])\n",
    "    \n",
    "collection.insert_one({'teamlist' : teams})"
   ]
  },
  {
   "cell_type": "code",
   "execution_count": 12,
   "id": "f6aaaac1",
   "metadata": {},
   "outputs": [],
   "source": [
    "with open('player_stats.json') as file:\n",
    "    file_data = json.load(file)"
   ]
  },
  {
   "cell_type": "code",
   "execution_count": 13,
   "id": "85930953",
   "metadata": {},
   "outputs": [
    {
     "data": {
      "text/plain": [
       "<pymongo.results.InsertManyResult at 0x7f8fc1fe9850>"
      ]
     },
     "execution_count": 13,
     "metadata": {},
     "output_type": "execute_result"
    }
   ],
   "source": [
    "collection = db.player_data\n",
    "collection.insert_many(file_data)"
   ]
  },
  {
   "cell_type": "code",
   "execution_count": null,
   "id": "4e3b2434",
   "metadata": {},
   "outputs": [],
   "source": []
  },
  {
   "cell_type": "code",
   "execution_count": null,
   "id": "2a461042",
   "metadata": {},
   "outputs": [],
   "source": []
  },
  {
   "cell_type": "code",
   "execution_count": null,
   "id": "4179a74d",
   "metadata": {},
   "outputs": [],
   "source": []
  },
  {
   "cell_type": "code",
   "execution_count": null,
   "id": "5e68a90a",
   "metadata": {},
   "outputs": [],
   "source": []
  }
 ],
 "metadata": {
  "kernelspec": {
   "display_name": "pythondata",
   "language": "python",
   "name": "pythondata"
  },
  "language_info": {
   "codemirror_mode": {
    "name": "ipython",
    "version": 3
   },
   "file_extension": ".py",
   "mimetype": "text/x-python",
   "name": "python",
   "nbconvert_exporter": "python",
   "pygments_lexer": "ipython3",
   "version": "3.9.7"
  }
 },
 "nbformat": 4,
 "nbformat_minor": 5
}
